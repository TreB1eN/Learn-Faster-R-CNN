{
 "cells": [
  {
   "cell_type": "code",
   "execution_count": 1,
   "metadata": {
    "ExecuteTime": {
     "end_time": "2018-06-09T01:59:07.821013Z",
     "start_time": "2018-06-09T01:59:07.811902Z"
    }
   },
   "outputs": [],
   "source": [
    "%load_ext autoreload\n",
    "%autoreload 2\n",
    "import pdb"
   ]
  },
  {
   "cell_type": "code",
   "execution_count": 2,
   "metadata": {
    "ExecuteTime": {
     "end_time": "2018-06-09T01:59:08.414083Z",
     "start_time": "2018-06-09T01:59:07.822211Z"
    }
   },
   "outputs": [
    {
     "name": "stderr",
     "output_type": "stream",
     "text": [
      "/root/Notebooks/simple-faster-rcnn-pytorch/model/utils/nms/non_maximum_suppression.py:12: UserWarning: \n",
      "    the python code for non_maximum_suppression is about 2x slow\n",
      "    It is strongly recommended to build cython code: \n",
      "    `cd model/utils/nms/; python3 build.py build_ext --inplace\n",
      "  `cd model/utils/nms/; python3 build.py build_ext --inplace''')\n"
     ]
    }
   ],
   "source": [
    "import os\n",
    "\n",
    "import matplotlib\n",
    "from tqdm import tqdm\n",
    "\n",
    "from utils.config import opt\n",
    "from data.dataset import Dataset, TestDataset, inverse_normalize\n",
    "from model import FasterRCNNVGG16\n",
    "from torch.autograd import Variable\n",
    "from torch.utils import data as data_\n",
    "from trainer import FasterRCNNTrainer\n",
    "from utils import array_tool as at\n",
    "from utils.vis_tool import visdom_bbox\n",
    "from utils.eval_tool import eval_detection_voc\n",
    "\n",
    "# fix for ulimit\n",
    "# https://github.com/pytorch/pytorch/issues/973#issuecomment-346405667\n",
    "import resource\n",
    "\n",
    "rlimit = resource.getrlimit(resource.RLIMIT_NOFILE)\n",
    "resource.setrlimit(resource.RLIMIT_NOFILE, (20480, rlimit[1]))\n",
    "\n",
    "matplotlib.use('agg')\n",
    "import numpy as np\n",
    "import cupy as cp\n",
    "\n",
    "from model.utils.bbox_tools import bbox2loc, bbox_iou, loc2bbox\n",
    "from model.utils.nms import non_maximum_suppression\n",
    "\n",
    "from collections import namedtuple\n",
    "import time\n",
    "from torch.nn import functional as F\n",
    "from model.utils.creator_tool import AnchorTargetCreator, ProposalTargetCreator\n",
    "\n",
    "from torch import nn\n",
    "import torch as t\n",
    "from torch.autograd import Variable\n",
    "from utils import array_tool as at\n",
    "from utils.vis_tool import Visualizer\n",
    "\n",
    "from utils.config import opt\n",
    "# from torchnet.meter import ConfusionMeter, AverageValueMeter"
   ]
  },
  {
   "cell_type": "code",
   "execution_count": 3,
   "metadata": {
    "ExecuteTime": {
     "end_time": "2018-06-09T01:59:08.433998Z",
     "start_time": "2018-06-09T01:59:08.415674Z"
    }
   },
   "outputs": [
    {
     "name": "stdout",
     "output_type": "stream",
     "text": [
      "load data\n"
     ]
    }
   ],
   "source": [
    "dataset = Dataset(opt)\n",
    "\n",
    "print('load data')\n",
    "dataloader = data_.DataLoader(dataset, \\\n",
    "                                  batch_size=1, \\\n",
    "                                  shuffle=True, \\\n",
    "                                  pin_memory=True,\\\n",
    "                                  num_workers=opt.num_workers)\n",
    "testset = TestDataset(opt)\n",
    "test_dataloader = data_.DataLoader(testset,\n",
    "                                       batch_size=1,\n",
    "                                       num_workers=opt.test_num_workers,\n",
    "                                       shuffle=False, \\\n",
    "                                       pin_memory=True\n",
    "                                       )"
   ]
  },
  {
   "cell_type": "code",
   "execution_count": 4,
   "metadata": {
    "ExecuteTime": {
     "end_time": "2018-06-09T01:59:10.356379Z",
     "start_time": "2018-06-09T01:59:08.435175Z"
    }
   },
   "outputs": [
    {
     "name": "stdout",
     "output_type": "stream",
     "text": [
      "model construct completed\n"
     ]
    }
   ],
   "source": [
    "faster_rcnn = FasterRCNNVGG16()\n",
    "print('model construct completed')"
   ]
  },
  {
   "cell_type": "code",
   "execution_count": 5,
   "metadata": {
    "ExecuteTime": {
     "end_time": "2018-06-09T01:59:12.484318Z",
     "start_time": "2018-06-09T01:59:10.357818Z"
    }
   },
   "outputs": [],
   "source": [
    "trainer = FasterRCNNTrainer(faster_rcnn).cuda()"
   ]
  },
  {
   "cell_type": "code",
   "execution_count": 6,
   "metadata": {
    "ExecuteTime": {
     "end_time": "2018-06-09T01:59:12.500969Z",
     "start_time": "2018-06-09T01:59:12.485652Z"
    }
   },
   "outputs": [],
   "source": [
    "best_map = 0\n",
    "lr_ = opt.lr"
   ]
  },
  {
   "cell_type": "code",
   "execution_count": 7,
   "metadata": {
    "ExecuteTime": {
     "end_time": "2018-06-09T01:59:13.380052Z",
     "start_time": "2018-06-09T01:59:12.502022Z"
    },
    "scrolled": true
   },
   "outputs": [],
   "source": [
    "img, bbox_, label_, scale = next(iter(dataloader))"
   ]
  },
  {
   "cell_type": "code",
   "execution_count": 8,
   "metadata": {
    "ExecuteTime": {
     "end_time": "2018-06-09T01:59:13.405956Z",
     "start_time": "2018-06-09T01:59:13.381763Z"
    }
   },
   "outputs": [
    {
     "data": {
      "text/plain": [
       "(torch.Size([1, 3, 600, 749]),\n",
       " torch.Size([1, 2, 4]),\n",
       " torch.Size([1, 2]),\n",
       " torch.Size([1]))"
      ]
     },
     "execution_count": 8,
     "metadata": {},
     "output_type": "execute_result"
    }
   ],
   "source": [
    "img.shape,bbox_.shape, label_.shape, scale.shape"
   ]
  },
  {
   "cell_type": "code",
   "execution_count": 9,
   "metadata": {
    "ExecuteTime": {
     "end_time": "2018-06-09T01:59:13.425064Z",
     "start_time": "2018-06-09T01:59:13.407182Z"
    }
   },
   "outputs": [],
   "source": [
    "img, bbox, label = img.cuda().float(), bbox_.cuda(), label_.cuda()"
   ]
  },
  {
   "cell_type": "code",
   "execution_count": null,
   "metadata": {
    "ExecuteTime": {
     "end_time": "2018-06-07T12:20:09.284148Z",
     "start_time": "2018-06-07T12:20:08.859263Z"
    },
    "deletable": false,
    "editable": false,
    "run_control": {
     "frozen": true
    }
   },
   "outputs": [],
   "source": [
    "trainer(img, bbox_, label_, scale)"
   ]
  },
  {
   "cell_type": "code",
   "execution_count": 10,
   "metadata": {
    "ExecuteTime": {
     "end_time": "2018-06-09T01:59:13.444973Z",
     "start_time": "2018-06-09T01:59:13.426264Z"
    }
   },
   "outputs": [],
   "source": [
    " imgs, bboxes, labels, scale = img, bbox_, label_, scale"
   ]
  },
  {
   "cell_type": "code",
   "execution_count": 11,
   "metadata": {
    "ExecuteTime": {
     "end_time": "2018-06-09T01:59:13.467090Z",
     "start_time": "2018-06-09T01:59:13.446314Z"
    }
   },
   "outputs": [],
   "source": [
    "n = bboxes.shape[0]\n",
    "if n != 1:\n",
    "    raise ValueError('Currently only batch size 1 is supported.')\n",
    "\n",
    "_, _, H, W = imgs.shape\n",
    "img_size = (H, W)"
   ]
  },
  {
   "cell_type": "code",
   "execution_count": 12,
   "metadata": {
    "ExecuteTime": {
     "end_time": "2018-06-09T01:59:13.494935Z",
     "start_time": "2018-06-09T01:59:13.468848Z"
    }
   },
   "outputs": [],
   "source": [
    "features = trainer.faster_rcnn.extractor(imgs)"
   ]
  },
  {
   "cell_type": "code",
   "execution_count": 13,
   "metadata": {
    "ExecuteTime": {
     "end_time": "2018-06-09T01:59:13.517283Z",
     "start_time": "2018-06-09T01:59:13.496688Z"
    }
   },
   "outputs": [
    {
     "data": {
      "text/plain": [
       "torch.Size([1, 512, 37, 46])"
      ]
     },
     "execution_count": 13,
     "metadata": {},
     "output_type": "execute_result"
    }
   ],
   "source": [
    "features.shape"
   ]
  },
  {
   "cell_type": "code",
   "execution_count": 14,
   "metadata": {
    "ExecuteTime": {
     "end_time": "2018-06-09T01:59:13.547716Z",
     "start_time": "2018-06-09T01:59:13.518858Z"
    }
   },
   "outputs": [
    {
     "data": {
      "text/plain": [
       "RegionProposalNetwork(\n",
       "  (conv1): Conv2d(512, 512, kernel_size=(3, 3), stride=(1, 1), padding=(1, 1))\n",
       "  (score): Conv2d(512, 18, kernel_size=(1, 1), stride=(1, 1))\n",
       "  (loc): Conv2d(512, 36, kernel_size=(1, 1), stride=(1, 1))\n",
       ")"
      ]
     },
     "execution_count": 14,
     "metadata": {},
     "output_type": "execute_result"
    }
   ],
   "source": [
    "trainer.faster_rcnn.rpn"
   ]
  },
  {
   "cell_type": "code",
   "execution_count": 15,
   "metadata": {
    "ExecuteTime": {
     "end_time": "2018-06-09T01:59:13.828202Z",
     "start_time": "2018-06-09T01:59:13.549985Z"
    }
   },
   "outputs": [],
   "source": [
    "rpn_locs, rpn_scores, rois, roi_indices, anchor = trainer.faster_rcnn.rpn(features, img_size, scale)"
   ]
  },
  {
   "cell_type": "code",
   "execution_count": 16,
   "metadata": {
    "ExecuteTime": {
     "end_time": "2018-06-09T01:59:13.849104Z",
     "start_time": "2018-06-09T01:59:13.829740Z"
    }
   },
   "outputs": [
    {
     "data": {
      "text/plain": [
       "(torch.Size([1, 15318, 4]),\n",
       " torch.Size([1, 15318, 2]),\n",
       " (2000, 4),\n",
       " (2000,),\n",
       " (15318, 4))"
      ]
     },
     "execution_count": 16,
     "metadata": {},
     "output_type": "execute_result"
    }
   ],
   "source": [
    "rpn_locs.shape, rpn_scores.shape, rois.shape, roi_indices.shape, anchor.shape"
   ]
  },
  {
   "cell_type": "code",
   "execution_count": 17,
   "metadata": {
    "ExecuteTime": {
     "end_time": "2018-06-09T01:59:13.866721Z",
     "start_time": "2018-06-09T01:59:13.850498Z"
    }
   },
   "outputs": [],
   "source": [
    "bbox = bboxes[0]\n",
    "label = labels[0]\n",
    "rpn_score = rpn_scores[0]\n",
    "rpn_loc = rpn_locs[0]\n",
    "roi = rois"
   ]
  },
  {
   "cell_type": "code",
   "execution_count": 18,
   "metadata": {
    "ExecuteTime": {
     "end_time": "2018-06-09T01:59:13.884313Z",
     "start_time": "2018-06-09T01:59:13.867915Z"
    }
   },
   "outputs": [],
   "source": [
    "sample_roi, gt_roi_loc, gt_roi_label = trainer.proposal_target_creator(\n",
    "            roi,\n",
    "            at.tonumpy(bbox), # at = array_tools,tensor to numpy 用不着了，在pytorch0.4里\n",
    "            at.tonumpy(label),\n",
    "            trainer.loc_normalize_mean,\n",
    "            trainer.loc_normalize_std)"
   ]
  },
  {
   "cell_type": "code",
   "execution_count": 19,
   "metadata": {
    "ExecuteTime": {
     "end_time": "2018-06-09T01:59:13.901517Z",
     "start_time": "2018-06-09T01:59:13.885454Z"
    }
   },
   "outputs": [
    {
     "data": {
      "text/plain": [
       "((128, 4), (128, 4), (128,))"
      ]
     },
     "execution_count": 19,
     "metadata": {},
     "output_type": "execute_result"
    }
   ],
   "source": [
    "sample_roi.shape,gt_roi_loc.shape, gt_roi_label.shape"
   ]
  },
  {
   "cell_type": "code",
   "execution_count": 20,
   "metadata": {
    "ExecuteTime": {
     "end_time": "2018-06-09T01:59:13.918036Z",
     "start_time": "2018-06-09T01:59:13.902660Z"
    }
   },
   "outputs": [],
   "source": [
    "sample_roi_index = t.zeros(len(sample_roi))"
   ]
  },
  {
   "cell_type": "code",
   "execution_count": 21,
   "metadata": {
    "ExecuteTime": {
     "end_time": "2018-06-09T01:59:13.945074Z",
     "start_time": "2018-06-09T01:59:13.919235Z"
    }
   },
   "outputs": [],
   "source": [
    "roi_cls_loc, roi_score = trainer.faster_rcnn.head(\n",
    "    features,\n",
    "    sample_roi,\n",
    "    sample_roi_index)"
   ]
  },
  {
   "cell_type": "code",
   "execution_count": 22,
   "metadata": {
    "ExecuteTime": {
     "end_time": "2018-06-09T01:59:13.963729Z",
     "start_time": "2018-06-09T01:59:13.946347Z"
    }
   },
   "outputs": [
    {
     "data": {
      "text/plain": [
       "(torch.Size([128, 84]), torch.Size([128, 21]))"
      ]
     },
     "execution_count": 22,
     "metadata": {},
     "output_type": "execute_result"
    }
   ],
   "source": [
    "roi_cls_loc.shape, roi_score.shape"
   ]
  },
  {
   "cell_type": "code",
   "execution_count": 23,
   "metadata": {
    "ExecuteTime": {
     "end_time": "2018-06-09T01:59:13.982598Z",
     "start_time": "2018-06-09T01:59:13.964933Z"
    }
   },
   "outputs": [],
   "source": [
    "gt_rpn_loc, gt_rpn_label = trainer.anchor_target_creator(\n",
    "            at.tonumpy(bbox),\n",
    "            anchor,\n",
    "            img_size)"
   ]
  },
  {
   "cell_type": "code",
   "execution_count": 24,
   "metadata": {
    "ExecuteTime": {
     "end_time": "2018-06-09T01:59:13.999975Z",
     "start_time": "2018-06-09T01:59:13.983768Z"
    }
   },
   "outputs": [
    {
     "data": {
      "text/plain": [
       "((15318, 4), (15318,))"
      ]
     },
     "execution_count": 24,
     "metadata": {},
     "output_type": "execute_result"
    }
   ],
   "source": [
    "gt_rpn_loc.shape, gt_rpn_label.shape"
   ]
  },
  {
   "cell_type": "code",
   "execution_count": 26,
   "metadata": {
    "ExecuteTime": {
     "end_time": "2018-06-09T01:59:45.567419Z",
     "start_time": "2018-06-09T01:59:45.545864Z"
    }
   },
   "outputs": [],
   "source": [
    "from trainer import _fast_rcnn_loc_loss"
   ]
  },
  {
   "cell_type": "code",
   "execution_count": 28,
   "metadata": {
    "ExecuteTime": {
     "end_time": "2018-06-09T02:02:49.556940Z",
     "start_time": "2018-06-09T02:02:49.535109Z"
    }
   },
   "outputs": [],
   "source": [
    "gt_rpn_label = at.tovariable(gt_rpn_label).long()\n",
    "gt_rpn_loc = at.tovariable(gt_rpn_loc)"
   ]
  },
  {
   "cell_type": "code",
   "execution_count": 29,
   "metadata": {
    "ExecuteTime": {
     "end_time": "2018-06-09T02:02:52.621594Z",
     "start_time": "2018-06-09T02:02:52.595473Z"
    },
    "run_control": {
     "marked": true
    }
   },
   "outputs": [],
   "source": [
    "rpn_loc_loss = _fast_rcnn_loc_loss(rpn_loc, gt_rpn_loc, gt_rpn_label.data,\n",
    "                                   trainer.rpn_sigma)"
   ]
  },
  {
   "cell_type": "code",
   "execution_count": 30,
   "metadata": {
    "ExecuteTime": {
     "end_time": "2018-06-09T02:02:55.568225Z",
     "start_time": "2018-06-09T02:02:55.551856Z"
    },
    "run_control": {
     "marked": true
    }
   },
   "outputs": [
    {
     "data": {
      "text/plain": [
       "tensor(1.00000e-02 *\n",
       "       1.9013, device='cuda:0')"
      ]
     },
     "execution_count": 30,
     "metadata": {},
     "output_type": "execute_result"
    }
   ],
   "source": [
    "rpn_loc_loss"
   ]
  },
  {
   "cell_type": "code",
   "execution_count": 33,
   "metadata": {
    "ExecuteTime": {
     "end_time": "2018-06-09T02:04:13.973028Z",
     "start_time": "2018-06-09T02:04:13.950638Z"
    }
   },
   "outputs": [
    {
     "data": {
      "text/plain": [
       "(torch.Size([15318, 2]), torch.Size([15318]))"
      ]
     },
     "execution_count": 33,
     "metadata": {},
     "output_type": "execute_result"
    }
   ],
   "source": [
    "rpn_score.shape,gt_rpn_label.shape"
   ]
  },
  {
   "cell_type": "code",
   "execution_count": null,
   "metadata": {},
   "outputs": [],
   "source": [
    "rpn_cls_loss = F.cross_entropy(rpn_score, gt_rpn_label.cuda(), ignore_index=-1)"
   ]
  },
  {
   "cell_type": "code",
   "execution_count": 34,
   "metadata": {
    "ExecuteTime": {
     "end_time": "2018-06-09T02:05:59.513342Z",
     "start_time": "2018-06-09T02:05:59.486522Z"
    }
   },
   "outputs": [],
   "source": [
    "_gt_rpn_label = gt_rpn_label[gt_rpn_label > -1]\n",
    "_rpn_score = at.tonumpy(rpn_score)[at.tonumpy(gt_rpn_label) > -1]\n",
    "# self.rpn_cm.add(at.totensor(_rpn_score, False), _gt_rpn_label.data.long())"
   ]
  },
  {
   "cell_type": "code",
   "execution_count": 36,
   "metadata": {
    "ExecuteTime": {
     "end_time": "2018-06-09T02:06:10.921242Z",
     "start_time": "2018-06-09T02:06:10.900183Z"
    }
   },
   "outputs": [
    {
     "data": {
      "text/plain": [
       "(torch.Size([256]), (256, 2))"
      ]
     },
     "execution_count": 36,
     "metadata": {},
     "output_type": "execute_result"
    }
   ],
   "source": [
    "_gt_rpn_label.shape,_rpn_score.shape"
   ]
  },
  {
   "cell_type": "code",
   "execution_count": 37,
   "metadata": {
    "ExecuteTime": {
     "end_time": "2018-06-09T02:16:46.548315Z",
     "start_time": "2018-06-09T02:16:46.526004Z"
    }
   },
   "outputs": [],
   "source": [
    "# ------------------ ROI losses (fast rcnn loss) -------------------#\n",
    "n_sample = roi_cls_loc.shape[0]"
   ]
  },
  {
   "cell_type": "code",
   "execution_count": 38,
   "metadata": {
    "ExecuteTime": {
     "end_time": "2018-06-09T02:16:52.507938Z",
     "start_time": "2018-06-09T02:16:52.485902Z"
    }
   },
   "outputs": [
    {
     "data": {
      "text/plain": [
       "128"
      ]
     },
     "execution_count": 38,
     "metadata": {},
     "output_type": "execute_result"
    }
   ],
   "source": [
    "n_sample"
   ]
  },
  {
   "cell_type": "code",
   "execution_count": 39,
   "metadata": {
    "ExecuteTime": {
     "end_time": "2018-06-09T02:17:05.636112Z",
     "start_time": "2018-06-09T02:17:05.613464Z"
    }
   },
   "outputs": [
    {
     "data": {
      "text/plain": [
       "torch.Size([128, 84])"
      ]
     },
     "execution_count": 39,
     "metadata": {},
     "output_type": "execute_result"
    }
   ],
   "source": [
    "roi_cls_loc.shape"
   ]
  },
  {
   "cell_type": "code",
   "execution_count": 40,
   "metadata": {
    "ExecuteTime": {
     "end_time": "2018-06-09T02:17:20.202990Z",
     "start_time": "2018-06-09T02:17:20.180970Z"
    },
    "run_control": {
     "marked": false
    }
   },
   "outputs": [],
   "source": [
    "roi_cls_loc = roi_cls_loc.view(n_sample, -1, 4)"
   ]
  },
  {
   "cell_type": "code",
   "execution_count": 41,
   "metadata": {
    "ExecuteTime": {
     "end_time": "2018-06-09T02:17:24.466787Z",
     "start_time": "2018-06-09T02:17:24.444502Z"
    }
   },
   "outputs": [
    {
     "data": {
      "text/plain": [
       "torch.Size([128, 21, 4])"
      ]
     },
     "execution_count": 41,
     "metadata": {},
     "output_type": "execute_result"
    }
   ],
   "source": [
    "roi_cls_loc.shape"
   ]
  },
  {
   "cell_type": "code",
   "execution_count": 42,
   "metadata": {
    "ExecuteTime": {
     "end_time": "2018-06-09T02:17:37.051932Z",
     "start_time": "2018-06-09T02:17:37.029534Z"
    }
   },
   "outputs": [
    {
     "data": {
      "text/plain": [
       "array([12, 18, 18, 18, 12, 12, 18, 12, 18, 12, 12, 12, 18, 12, 18, 18, 18,\n",
       "       12, 18, 18, 12, 12, 12, 18, 12,  0,  0,  0,  0,  0,  0,  0,  0,  0,\n",
       "        0,  0,  0,  0,  0,  0,  0,  0,  0,  0,  0,  0,  0,  0,  0,  0,  0,\n",
       "        0,  0,  0,  0,  0,  0,  0,  0,  0,  0,  0,  0,  0,  0,  0,  0,  0,\n",
       "        0,  0,  0,  0,  0,  0,  0,  0,  0,  0,  0,  0,  0,  0,  0,  0,  0,\n",
       "        0,  0,  0,  0,  0,  0,  0,  0,  0,  0,  0,  0,  0,  0,  0,  0,  0,\n",
       "        0,  0,  0,  0,  0,  0,  0,  0,  0,  0,  0,  0,  0,  0,  0,  0,  0,\n",
       "        0,  0,  0,  0,  0,  0,  0,  0,  0], dtype=int32)"
      ]
     },
     "execution_count": 42,
     "metadata": {},
     "output_type": "execute_result"
    }
   ],
   "source": [
    "gt_roi_label"
   ]
  },
  {
   "cell_type": "code",
   "execution_count": 43,
   "metadata": {
    "ExecuteTime": {
     "end_time": "2018-06-09T02:17:47.192751Z",
     "start_time": "2018-06-09T02:17:47.164590Z"
    },
    "run_control": {
     "marked": false
    }
   },
   "outputs": [],
   "source": [
    "roi_loc = roi_cls_loc[t.arange(0, n_sample).long().cuda(), \\\n",
    "      at.totensor(gt_roi_label).long()]"
   ]
  },
  {
   "cell_type": "code",
   "execution_count": 45,
   "metadata": {
    "ExecuteTime": {
     "end_time": "2018-06-09T02:17:54.938942Z",
     "start_time": "2018-06-09T02:17:54.916819Z"
    }
   },
   "outputs": [
    {
     "data": {
      "text/plain": [
       "torch.Size([128, 4])"
      ]
     },
     "execution_count": 45,
     "metadata": {},
     "output_type": "execute_result"
    }
   ],
   "source": [
    "roi_loc.shape"
   ]
  },
  {
   "cell_type": "code",
   "execution_count": 46,
   "metadata": {
    "ExecuteTime": {
     "end_time": "2018-06-09T02:18:24.275199Z",
     "start_time": "2018-06-09T02:18:24.253844Z"
    },
    "run_control": {
     "marked": false
    }
   },
   "outputs": [],
   "source": [
    "gt_roi_label = at.tovariable(gt_roi_label).long()\n",
    "gt_roi_loc = at.tovariable(gt_roi_loc)"
   ]
  },
  {
   "cell_type": "code",
   "execution_count": null,
   "metadata": {},
   "outputs": [],
   "source": []
  },
  {
   "cell_type": "code",
   "execution_count": null,
   "metadata": {},
   "outputs": [],
   "source": [
    "roi_loc_loss = _fast_rcnn_loc_loss(\n",
    "    roi_loc.contiguous(),\n",
    "    gt_roi_loc,\n",
    "    gt_roi_label.data,\n",
    "    self.roi_sigma)\n",
    "\n",
    "roi_cls_loss = nn.CrossEntropyLoss()(roi_score, gt_roi_label.cuda())\n",
    "\n",
    "# self.roi_cm.add(at.totensor(roi_score, False), gt_roi_label.data.long())\n",
    "\n",
    "losses = [rpn_loc_loss, rpn_cls_loss, roi_loc_loss, roi_cls_loss]\n",
    "losses = losses + [sum(losses)]"
   ]
  }
 ],
 "metadata": {
  "hide_input": false,
  "kernelspec": {
   "display_name": "Python 3",
   "language": "python",
   "name": "python3"
  },
  "language_info": {
   "codemirror_mode": {
    "name": "ipython",
    "version": 3
   },
   "file_extension": ".py",
   "mimetype": "text/x-python",
   "name": "python",
   "nbconvert_exporter": "python",
   "pygments_lexer": "ipython3",
   "version": "3.6.3"
  },
  "toc": {
   "base_numbering": 1,
   "nav_menu": {},
   "number_sections": true,
   "sideBar": true,
   "skip_h1_title": false,
   "title_cell": "Table of Contents",
   "title_sidebar": "Contents",
   "toc_cell": false,
   "toc_position": {},
   "toc_section_display": true,
   "toc_window_display": false
  },
  "varInspector": {
   "cols": {
    "lenName": 16,
    "lenType": 16,
    "lenVar": 40
   },
   "kernels_config": {
    "python": {
     "delete_cmd_postfix": "",
     "delete_cmd_prefix": "del ",
     "library": "var_list.py",
     "varRefreshCmd": "print(var_dic_list())"
    },
    "r": {
     "delete_cmd_postfix": ") ",
     "delete_cmd_prefix": "rm(",
     "library": "var_list.r",
     "varRefreshCmd": "cat(var_dic_list()) "
    }
   },
   "oldHeight": 839,
   "position": {
    "height": "40px",
    "left": "974.172px",
    "right": "20px",
    "top": "84px",
    "width": "800px"
   },
   "types_to_exclude": [
    "module",
    "function",
    "builtin_function_or_method",
    "instance",
    "_Feature"
   ],
   "varInspector_section_display": "none",
   "window_display": true
  }
 },
 "nbformat": 4,
 "nbformat_minor": 2
}
